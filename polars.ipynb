{
 "cells": [
  {
   "cell_type": "markdown",
   "metadata": {},
   "source": [
    "## **Polaris - Guide** "
   ]
  },
  {
   "cell_type": "markdown",
   "metadata": {},
   "source": [
    "### **1) Installation**"
   ]
  },
  {
   "cell_type": "code",
   "execution_count": 2,
   "metadata": {},
   "outputs": [
    {
     "name": "stdout",
     "output_type": "stream",
     "text": [
      "Requirement already satisfied: polars in /home/deepchand-o-a/anaconda3/envs/youtube/lib/python3.10/site-packages (1.6.0)\n"
     ]
    }
   ],
   "source": [
    "!pip install polars"
   ]
  },
  {
   "cell_type": "markdown",
   "metadata": {},
   "source": [
    "##"
   ]
  },
  {
   "cell_type": "markdown",
   "metadata": {},
   "source": [
    "### **2) Input and Output**"
   ]
  },
  {
   "cell_type": "code",
   "execution_count": 3,
   "metadata": {},
   "outputs": [],
   "source": [
    "#Read CSV data\n",
    "import polars as pl\n",
    "df = pl.read_csv(\"/home/deepchand-o-a/youtube/polars/df_Customers.csv\")"
   ]
  },
  {
   "cell_type": "code",
   "execution_count": 4,
   "metadata": {},
   "outputs": [
    {
     "name": "stdout",
     "output_type": "stream",
     "text": [
      "shape: (5, 4)\n",
      "┌──────────────┬──────────────────────────┬────────────────────┬────────────────┐\n",
      "│ customer_id  ┆ customer_zip_code_prefix ┆ customer_city      ┆ customer_state │\n",
      "│ ---          ┆ ---                      ┆ ---                ┆ ---            │\n",
      "│ str          ┆ i64                      ┆ str                ┆ str            │\n",
      "╞══════════════╪══════════════════════════╪════════════════════╪════════════════╡\n",
      "│ hCT0x9JiGXBQ ┆ 58125                    ┆ varzea paulista    ┆ SP             │\n",
      "│ PxA7fv9spyhx ┆ 3112                     ┆ armacao dos buzios ┆ RJ             │\n",
      "│ g3nXeJkGI0Qw ┆ 4119                     ┆ jandira            ┆ SP             │\n",
      "│ EOEsCQ6QlpIg ┆ 18212                    ┆ uberlandia         ┆ MG             │\n",
      "│ mVz5LO2Vd6cL ┆ 88868                    ┆ ilhabela           ┆ SP             │\n",
      "└──────────────┴──────────────────────────┴────────────────────┴────────────────┘\n"
     ]
    }
   ],
   "source": [
    "print(df.head())"
   ]
  },
  {
   "cell_type": "code",
   "execution_count": 5,
   "metadata": {},
   "outputs": [],
   "source": [
    "# write to CSV\n",
    "df = pl.DataFrame({\"foo\": [1, 2, 3], \"bar\": [None, \"bak\", \"baz\"]})\n",
    "df.write_csv(\"/home/deepchand-o-a/youtube/polars/example.csv\")"
   ]
  },
  {
   "cell_type": "markdown",
   "metadata": {},
   "source": [
    "### **3) Data Frame Creation**"
   ]
  },
  {
   "cell_type": "markdown",
   "metadata": {},
   "source": [
    "#### 3.1 Series"
   ]
  },
  {
   "cell_type": "code",
   "execution_count": 6,
   "metadata": {},
   "outputs": [
    {
     "name": "stdout",
     "output_type": "stream",
     "text": [
      "shape: (5,)\n",
      "Series: 'a' [i64]\n",
      "[\n",
      "\t1\n",
      "\t2\n",
      "\t3\n",
      "\t4\n",
      "\t5\n",
      "]\n"
     ]
    }
   ],
   "source": [
    "# Series are a 1-dimensional data structure.\n",
    "#  Within a series all elements have the same Data Type .\n",
    "import polars as pl\n",
    "\n",
    "s = pl.Series(\"a\", [1, 2, 3, 4, 5])\n",
    "print(s)"
   ]
  },
  {
   "cell_type": "markdown",
   "metadata": {},
   "source": [
    "#### 3.2 DataFrame"
   ]
  },
  {
   "cell_type": "code",
   "execution_count": 7,
   "metadata": {},
   "outputs": [
    {
     "name": "stdout",
     "output_type": "stream",
     "text": [
      "shape: (5, 3)\n",
      "┌─────────┬─────────────────────┬───────┐\n",
      "│ integer ┆ date                ┆ float │\n",
      "│ ---     ┆ ---                 ┆ ---   │\n",
      "│ i64     ┆ datetime[μs]        ┆ f64   │\n",
      "╞═════════╪═════════════════════╪═══════╡\n",
      "│ 1       ┆ 2022-01-01 00:00:00 ┆ 4.0   │\n",
      "│ 2       ┆ 2022-01-02 00:00:00 ┆ 5.0   │\n",
      "│ 3       ┆ 2022-01-03 00:00:00 ┆ 6.0   │\n",
      "│ 4       ┆ 2022-01-04 00:00:00 ┆ 7.0   │\n",
      "│ 5       ┆ 2022-01-05 00:00:00 ┆ 8.0   │\n",
      "└─────────┴─────────────────────┴───────┘\n"
     ]
    }
   ],
   "source": [
    "# A DataFrame is a 2-dimensional data structure that is backed by a Series\n",
    "# Operations that can be executed on a DataFrame are very similar to what is done in a SQL like query. \n",
    "# You can GROUP BY, JOIN, PIVOT, but also define custom functions.\n",
    "\n",
    "from datetime import datetime\n",
    "\n",
    "df = pl.DataFrame(\n",
    "    {\n",
    "        \"integer\": [1, 2, 3, 4, 5],\n",
    "        \"date\": [\n",
    "            datetime(2022, 1, 1),\n",
    "            datetime(2022, 1, 2),\n",
    "            datetime(2022, 1, 3),\n",
    "            datetime(2022, 1, 4),\n",
    "            datetime(2022, 1, 5),\n",
    "        ],\n",
    "        \"float\": [4.0, 5.0, 6.0, 7.0, 8.0],\n",
    "    }\n",
    ")\n",
    "\n",
    "print(df)"
   ]
  },
  {
   "cell_type": "markdown",
   "metadata": {},
   "source": [
    "### **4) Data Inspection**"
   ]
  },
  {
   "cell_type": "markdown",
   "metadata": {},
   "source": [
    "#### 4.1 df.head()"
   ]
  },
  {
   "cell_type": "code",
   "execution_count": 8,
   "metadata": {},
   "outputs": [
    {
     "name": "stdout",
     "output_type": "stream",
     "text": [
      "shape: (3, 3)\n",
      "┌─────────┬─────────────────────┬───────┐\n",
      "│ integer ┆ date                ┆ float │\n",
      "│ ---     ┆ ---                 ┆ ---   │\n",
      "│ i64     ┆ datetime[μs]        ┆ f64   │\n",
      "╞═════════╪═════════════════════╪═══════╡\n",
      "│ 1       ┆ 2022-01-01 00:00:00 ┆ 4.0   │\n",
      "│ 2       ┆ 2022-01-02 00:00:00 ┆ 5.0   │\n",
      "│ 3       ┆ 2022-01-03 00:00:00 ┆ 6.0   │\n",
      "└─────────┴─────────────────────┴───────┘\n"
     ]
    }
   ],
   "source": [
    "print(df.head(3))"
   ]
  },
  {
   "cell_type": "markdown",
   "metadata": {},
   "source": [
    "#### 4.2 df.tail()"
   ]
  },
  {
   "cell_type": "code",
   "execution_count": 9,
   "metadata": {},
   "outputs": [
    {
     "name": "stdout",
     "output_type": "stream",
     "text": [
      "shape: (3, 3)\n",
      "┌─────────┬─────────────────────┬───────┐\n",
      "│ integer ┆ date                ┆ float │\n",
      "│ ---     ┆ ---                 ┆ ---   │\n",
      "│ i64     ┆ datetime[μs]        ┆ f64   │\n",
      "╞═════════╪═════════════════════╪═══════╡\n",
      "│ 3       ┆ 2022-01-03 00:00:00 ┆ 6.0   │\n",
      "│ 4       ┆ 2022-01-04 00:00:00 ┆ 7.0   │\n",
      "│ 5       ┆ 2022-01-05 00:00:00 ┆ 8.0   │\n",
      "└─────────┴─────────────────────┴───────┘\n"
     ]
    }
   ],
   "source": [
    "print(df.tail(3))"
   ]
  },
  {
   "cell_type": "markdown",
   "metadata": {},
   "source": [
    "#### 4.3 df.describe()"
   ]
  },
  {
   "cell_type": "code",
   "execution_count": 10,
   "metadata": {},
   "outputs": [
    {
     "name": "stdout",
     "output_type": "stream",
     "text": [
      "shape: (9, 4)\n",
      "┌────────────┬──────────┬─────────────────────┬──────────┐\n",
      "│ statistic  ┆ integer  ┆ date                ┆ float    │\n",
      "│ ---        ┆ ---      ┆ ---                 ┆ ---      │\n",
      "│ str        ┆ f64      ┆ str                 ┆ f64      │\n",
      "╞════════════╪══════════╪═════════════════════╪══════════╡\n",
      "│ count      ┆ 5.0      ┆ 5                   ┆ 5.0      │\n",
      "│ null_count ┆ 0.0      ┆ 0                   ┆ 0.0      │\n",
      "│ mean       ┆ 3.0      ┆ 2022-01-03 00:00:00 ┆ 6.0      │\n",
      "│ std        ┆ 1.581139 ┆ null                ┆ 1.581139 │\n",
      "│ min        ┆ 1.0      ┆ 2022-01-01 00:00:00 ┆ 4.0      │\n",
      "│ 25%        ┆ 2.0      ┆ 2022-01-02 00:00:00 ┆ 5.0      │\n",
      "│ 50%        ┆ 3.0      ┆ 2022-01-03 00:00:00 ┆ 6.0      │\n",
      "│ 75%        ┆ 4.0      ┆ 2022-01-04 00:00:00 ┆ 7.0      │\n",
      "│ max        ┆ 5.0      ┆ 2022-01-05 00:00:00 ┆ 8.0      │\n",
      "└────────────┴──────────┴─────────────────────┴──────────┘\n"
     ]
    }
   ],
   "source": [
    "print(df.describe())"
   ]
  },
  {
   "cell_type": "markdown",
   "metadata": {},
   "source": [
    "### **5) Data Selection and Filtering**"
   ]
  },
  {
   "cell_type": "markdown",
   "metadata": {},
   "source": [
    "#### 5.1 Select()"
   ]
  },
  {
   "cell_type": "code",
   "execution_count": 11,
   "metadata": {},
   "outputs": [
    {
     "data": {
      "text/html": [
       "<div><style>\n",
       ".dataframe > thead > tr,\n",
       ".dataframe > tbody > tr {\n",
       "  text-align: right;\n",
       "  white-space: pre-wrap;\n",
       "}\n",
       "</style>\n",
       "<small>shape: (89_316, 1)</small><table border=\"1\" class=\"dataframe\"><thead><tr><th>customer_state</th></tr><tr><td>str</td></tr></thead><tbody><tr><td>&quot;SP&quot;</td></tr><tr><td>&quot;RJ&quot;</td></tr><tr><td>&quot;SP&quot;</td></tr><tr><td>&quot;MG&quot;</td></tr><tr><td>&quot;SP&quot;</td></tr><tr><td>&hellip;</td></tr><tr><td>&quot;SP&quot;</td></tr><tr><td>&quot;SP&quot;</td></tr><tr><td>&quot;SP&quot;</td></tr><tr><td>&quot;SP&quot;</td></tr><tr><td>&quot;DF&quot;</td></tr></tbody></table></div>"
      ],
      "text/plain": [
       "shape: (89_316, 1)\n",
       "┌────────────────┐\n",
       "│ customer_state │\n",
       "│ ---            │\n",
       "│ str            │\n",
       "╞════════════════╡\n",
       "│ SP             │\n",
       "│ RJ             │\n",
       "│ SP             │\n",
       "│ MG             │\n",
       "│ SP             │\n",
       "│ …              │\n",
       "│ SP             │\n",
       "│ SP             │\n",
       "│ SP             │\n",
       "│ SP             │\n",
       "│ DF             │\n",
       "└────────────────┘"
      ]
     },
     "execution_count": 11,
     "metadata": {},
     "output_type": "execute_result"
    }
   ],
   "source": [
    "# Used to select by columns names\n",
    "import polars as pl\n",
    "df = pl.read_csv(\"/home/deepchand-o-a/youtube/polars/df_Customers.csv\")\n",
    "\n",
    "\n",
    "df.select('customer_state')"
   ]
  },
  {
   "cell_type": "markdown",
   "metadata": {},
   "source": [
    "#### 5.2 filter()"
   ]
  },
  {
   "cell_type": "code",
   "execution_count": 12,
   "metadata": {},
   "outputs": [
    {
     "data": {
      "text/html": [
       "<div><style>\n",
       ".dataframe > thead > tr,\n",
       ".dataframe > tbody > tr {\n",
       "  text-align: right;\n",
       "  white-space: pre-wrap;\n",
       "}\n",
       "</style>\n",
       "<small>shape: (37_879, 4)</small><table border=\"1\" class=\"dataframe\"><thead><tr><th>customer_id</th><th>customer_zip_code_prefix</th><th>customer_city</th><th>customer_state</th></tr><tr><td>str</td><td>i64</td><td>str</td><td>str</td></tr></thead><tbody><tr><td>&quot;hCT0x9JiGXBQ&quot;</td><td>58125</td><td>&quot;varzea paulista&quot;</td><td>&quot;SP&quot;</td></tr><tr><td>&quot;g3nXeJkGI0Qw&quot;</td><td>4119</td><td>&quot;jandira&quot;</td><td>&quot;SP&quot;</td></tr><tr><td>&quot;mVz5LO2Vd6cL&quot;</td><td>88868</td><td>&quot;ilhabela&quot;</td><td>&quot;SP&quot;</td></tr><tr><td>&quot;85jiDiGSfhTu&quot;</td><td>4762</td><td>&quot;guarulhos&quot;</td><td>&quot;SP&quot;</td></tr><tr><td>&quot;gDdkaN8b9s1g&quot;</td><td>75870</td><td>&quot;mogi-guacu&quot;</td><td>&quot;SP&quot;</td></tr><tr><td>&hellip;</td><td>&hellip;</td><td>&hellip;</td><td>&hellip;</td></tr><tr><td>&quot;xJEzC2usouPl&quot;</td><td>5414</td><td>&quot;sao paulo&quot;</td><td>&quot;SP&quot;</td></tr><tr><td>&quot;bfJtzkBGksdY&quot;</td><td>94060</td><td>&quot;amparo&quot;</td><td>&quot;SP&quot;</td></tr><tr><td>&quot;4hjsCpj6FC7g&quot;</td><td>99835</td><td>&quot;itapevi&quot;</td><td>&quot;SP&quot;</td></tr><tr><td>&quot;DLn56oKHl9bv&quot;</td><td>2540</td><td>&quot;sao paulo&quot;</td><td>&quot;SP&quot;</td></tr><tr><td>&quot;auSfRYUQUOIq&quot;</td><td>12288</td><td>&quot;paulinia&quot;</td><td>&quot;SP&quot;</td></tr></tbody></table></div>"
      ],
      "text/plain": [
       "shape: (37_879, 4)\n",
       "┌──────────────┬──────────────────────────┬─────────────────┬────────────────┐\n",
       "│ customer_id  ┆ customer_zip_code_prefix ┆ customer_city   ┆ customer_state │\n",
       "│ ---          ┆ ---                      ┆ ---             ┆ ---            │\n",
       "│ str          ┆ i64                      ┆ str             ┆ str            │\n",
       "╞══════════════╪══════════════════════════╪═════════════════╪════════════════╡\n",
       "│ hCT0x9JiGXBQ ┆ 58125                    ┆ varzea paulista ┆ SP             │\n",
       "│ g3nXeJkGI0Qw ┆ 4119                     ┆ jandira         ┆ SP             │\n",
       "│ mVz5LO2Vd6cL ┆ 88868                    ┆ ilhabela        ┆ SP             │\n",
       "│ 85jiDiGSfhTu ┆ 4762                     ┆ guarulhos       ┆ SP             │\n",
       "│ gDdkaN8b9s1g ┆ 75870                    ┆ mogi-guacu      ┆ SP             │\n",
       "│ …            ┆ …                        ┆ …               ┆ …              │\n",
       "│ xJEzC2usouPl ┆ 5414                     ┆ sao paulo       ┆ SP             │\n",
       "│ bfJtzkBGksdY ┆ 94060                    ┆ amparo          ┆ SP             │\n",
       "│ 4hjsCpj6FC7g ┆ 99835                    ┆ itapevi         ┆ SP             │\n",
       "│ DLn56oKHl9bv ┆ 2540                     ┆ sao paulo       ┆ SP             │\n",
       "│ auSfRYUQUOIq ┆ 12288                    ┆ paulinia        ┆ SP             │\n",
       "└──────────────┴──────────────────────────┴─────────────────┴────────────────┘"
      ]
     },
     "execution_count": 12,
     "metadata": {},
     "output_type": "execute_result"
    }
   ],
   "source": [
    "# Used for Filtering data based on conditions\n",
    "df.filter(pl.col('customer_state') == \"SP\")"
   ]
  },
  {
   "cell_type": "markdown",
   "metadata": {},
   "source": [
    "### **6) Data Cleaning**"
   ]
  },
  {
   "cell_type": "markdown",
   "metadata": {},
   "source": [
    "#### 6.1 Dataframe with NULL Value"
   ]
  },
  {
   "cell_type": "code",
   "execution_count": 13,
   "metadata": {},
   "outputs": [
    {
     "name": "stdout",
     "output_type": "stream",
     "text": [
      "shape: (5, 1)\n",
      "┌───────┐\n",
      "│ value │\n",
      "│ ---   │\n",
      "│ i64   │\n",
      "╞═══════╡\n",
      "│ 1     │\n",
      "│ null  │\n",
      "│ 3     │\n",
      "│ 4     │\n",
      "│ 5     │\n",
      "└───────┘\n"
     ]
    }
   ],
   "source": [
    "df = pl.DataFrame(\n",
    "    {\n",
    "        \"value\": [1, None,3,4,5],\n",
    "    },\n",
    ")\n",
    "print(df)"
   ]
  },
  {
   "cell_type": "markdown",
   "metadata": {},
   "source": [
    "#### 6.1 count No of NULL in dataset"
   ]
  },
  {
   "cell_type": "code",
   "execution_count": 14,
   "metadata": {},
   "outputs": [
    {
     "name": "stdout",
     "output_type": "stream",
     "text": [
      "shape: (1, 1)\n",
      "┌───────┐\n",
      "│ value │\n",
      "│ ---   │\n",
      "│ u32   │\n",
      "╞═══════╡\n",
      "│ 1     │\n",
      "└───────┘\n"
     ]
    }
   ],
   "source": [
    "null_count_df = df.null_count()\n",
    "print(null_count_df)"
   ]
  },
  {
   "cell_type": "markdown",
   "metadata": {},
   "source": [
    "#### 6.2 See where NULL is present in dataset"
   ]
  },
  {
   "cell_type": "code",
   "execution_count": 15,
   "metadata": {},
   "outputs": [
    {
     "name": "stdout",
     "output_type": "stream",
     "text": [
      "shape: (5, 1)\n",
      "┌───────┐\n",
      "│ value │\n",
      "│ ---   │\n",
      "│ bool  │\n",
      "╞═══════╡\n",
      "│ false │\n",
      "│ true  │\n",
      "│ false │\n",
      "│ false │\n",
      "│ false │\n",
      "└───────┘\n"
     ]
    }
   ],
   "source": [
    "is_null_series = df.select(\n",
    "    pl.col(\"value\").is_null(),\n",
    ")\n",
    "print(is_null_series)"
   ]
  },
  {
   "cell_type": "markdown",
   "metadata": {},
   "source": [
    "#### 6.3 Drop NULL values"
   ]
  },
  {
   "cell_type": "code",
   "execution_count": 16,
   "metadata": {},
   "outputs": [
    {
     "name": "stdout",
     "output_type": "stream",
     "text": [
      "shape: (4, 1)\n",
      "┌───────┐\n",
      "│ value │\n",
      "│ ---   │\n",
      "│ i64   │\n",
      "╞═══════╡\n",
      "│ 1     │\n",
      "│ 3     │\n",
      "│ 4     │\n",
      "│ 5     │\n",
      "└───────┘\n"
     ]
    }
   ],
   "source": [
    "df = df.drop_nulls()\n",
    "print(df)\n"
   ]
  },
  {
   "cell_type": "markdown",
   "metadata": {},
   "source": [
    "#### 6.4 Fill NULL values with specific values"
   ]
  },
  {
   "cell_type": "code",
   "execution_count": 17,
   "metadata": {},
   "outputs": [
    {
     "name": "stdout",
     "output_type": "stream",
     "text": [
      "shape: (3, 2)\n",
      "┌──────┬──────┐\n",
      "│ col1 ┆ col2 │\n",
      "│ ---  ┆ ---  │\n",
      "│ i64  ┆ i64  │\n",
      "╞══════╪══════╡\n",
      "│ 1    ┆ 1    │\n",
      "│ 2    ┆ null │\n",
      "│ 3    ┆ 3    │\n",
      "└──────┴──────┘\n"
     ]
    }
   ],
   "source": [
    "df = pl.DataFrame(\n",
    "    {\n",
    "        \"col1\": [1, 2, 3],\n",
    "        \"col2\": [1, None, 3],\n",
    "    },\n",
    ")\n",
    "print(df)"
   ]
  },
  {
   "cell_type": "code",
   "execution_count": 18,
   "metadata": {},
   "outputs": [
    {
     "name": "stdout",
     "output_type": "stream",
     "text": [
      "shape: (3, 2)\n",
      "┌──────┬──────┐\n",
      "│ col1 ┆ col2 │\n",
      "│ ---  ┆ ---  │\n",
      "│ i64  ┆ i64  │\n",
      "╞══════╪══════╡\n",
      "│ 1    ┆ 1    │\n",
      "│ 2    ┆ 2    │\n",
      "│ 3    ┆ 3    │\n",
      "└──────┴──────┘\n"
     ]
    }
   ],
   "source": [
    "fill_literal_df = df.with_columns(pl.col(\"col2\").fill_null(pl.lit(2)),)\n",
    "print(fill_literal_df)"
   ]
  },
  {
   "cell_type": "markdown",
   "metadata": {},
   "source": [
    "#### 6.5 Find Duplicates"
   ]
  },
  {
   "cell_type": "code",
   "execution_count": 19,
   "metadata": {},
   "outputs": [
    {
     "name": "stdout",
     "output_type": "stream",
     "text": [
      "Original DataFrame:\n",
      "shape: (6, 3)\n",
      "┌─────────────┬───────────────┬────────────────┐\n",
      "│ customer_id ┆ customer_name ┆ customer_state │\n",
      "│ ---         ┆ ---           ┆ ---            │\n",
      "│ i64         ┆ str           ┆ str            │\n",
      "╞═════════════╪═══════════════╪════════════════╡\n",
      "│ 1           ┆ Alice         ┆ CA             │\n",
      "│ 2           ┆ Bob           ┆ NY             │\n",
      "│ 3           ┆ Charlie       ┆ TX             │\n",
      "│ 4           ┆ David         ┆ CA             │\n",
      "│ 5           ┆ Eve           ┆ NY             │\n",
      "│ 3           ┆ Charlie       ┆ TX             │\n",
      "└─────────────┴───────────────┴────────────────┘\n"
     ]
    }
   ],
   "source": [
    "import polars as pl\n",
    "\n",
    "# Create a sample DataFrame\n",
    "data = {\n",
    "    \"customer_id\": [1, 2, 3, 4, 5, 3],\n",
    "    \"customer_name\": [\"Alice\", \"Bob\", \"Charlie\", \"David\", \"Eve\", \"Charlie\"],\n",
    "    \"customer_state\": [\"CA\", \"NY\", \"TX\", \"CA\", \"NY\", \"TX\"]\n",
    "}\n",
    "\n",
    "df = pl.DataFrame(data)\n",
    "print(\"Original DataFrame:\")\n",
    "print(df)\n"
   ]
  },
  {
   "cell_type": "code",
   "execution_count": 20,
   "metadata": {},
   "outputs": [
    {
     "name": "stdout",
     "output_type": "stream",
     "text": [
      "\n",
      "DataFrame with 'is_duplicate' column:\n",
      "shape: (6, 4)\n",
      "┌─────────────┬───────────────┬────────────────┬──────────────┐\n",
      "│ customer_id ┆ customer_name ┆ customer_state ┆ is_duplicate │\n",
      "│ ---         ┆ ---           ┆ ---            ┆ ---          │\n",
      "│ i64         ┆ str           ┆ str            ┆ bool         │\n",
      "╞═════════════╪═══════════════╪════════════════╪══════════════╡\n",
      "│ 1           ┆ Alice         ┆ CA             ┆ false        │\n",
      "│ 2           ┆ Bob           ┆ NY             ┆ false        │\n",
      "│ 3           ┆ Charlie       ┆ TX             ┆ true         │\n",
      "│ 4           ┆ David         ┆ CA             ┆ false        │\n",
      "│ 5           ┆ Eve           ┆ NY             ┆ false        │\n",
      "│ 3           ┆ Charlie       ┆ TX             ┆ true         │\n",
      "└─────────────┴───────────────┴────────────────┴──────────────┘\n"
     ]
    }
   ],
   "source": [
    "# Identify duplicates in the 'customer_id' column\n",
    "df = df.with_columns(pl.col('customer_id').is_duplicated().alias('is_duplicate'))\n",
    "\n",
    "print(\"\\nDataFrame with 'is_duplicate' column:\")\n",
    "print(df)\n"
   ]
  },
  {
   "cell_type": "markdown",
   "metadata": {},
   "source": [
    "#### 6.6 Remove Duplicates"
   ]
  },
  {
   "cell_type": "code",
   "execution_count": 21,
   "metadata": {},
   "outputs": [
    {
     "name": "stdout",
     "output_type": "stream",
     "text": [
      "Original DataFrame:\n",
      "shape: (6, 3)\n",
      "┌─────────────┬───────────────┬────────────────┐\n",
      "│ customer_id ┆ customer_name ┆ customer_state │\n",
      "│ ---         ┆ ---           ┆ ---            │\n",
      "│ i64         ┆ str           ┆ str            │\n",
      "╞═════════════╪═══════════════╪════════════════╡\n",
      "│ 1           ┆ Alice         ┆ CA             │\n",
      "│ 2           ┆ Bob           ┆ NY             │\n",
      "│ 3           ┆ Charlie       ┆ TX             │\n",
      "│ 4           ┆ David         ┆ CA             │\n",
      "│ 5           ┆ Eve           ┆ NY             │\n",
      "│ 3           ┆ Charlie       ┆ TX             │\n",
      "└─────────────┴───────────────┴────────────────┘\n",
      "\n",
      "DataFrame after removing duplicates based on 'customer_id':\n",
      "shape: (5, 3)\n",
      "┌─────────────┬───────────────┬────────────────┐\n",
      "│ customer_id ┆ customer_name ┆ customer_state │\n",
      "│ ---         ┆ ---           ┆ ---            │\n",
      "│ i64         ┆ str           ┆ str            │\n",
      "╞═════════════╪═══════════════╪════════════════╡\n",
      "│ 2           ┆ Bob           ┆ NY             │\n",
      "│ 3           ┆ Charlie       ┆ TX             │\n",
      "│ 4           ┆ David         ┆ CA             │\n",
      "│ 1           ┆ Alice         ┆ CA             │\n",
      "│ 5           ┆ Eve           ┆ NY             │\n",
      "└─────────────┴───────────────┴────────────────┘\n"
     ]
    }
   ],
   "source": [
    "\n",
    "import polars as pl\n",
    "\n",
    "# Create a sample DataFrame\n",
    "data = {\n",
    "    \"customer_id\": [1, 2, 3, 4, 5, 3],\n",
    "    \"customer_name\": [\"Alice\", \"Bob\", \"Charlie\", \"David\", \"Eve\", \"Charlie\"],\n",
    "    \"customer_state\": [\"CA\", \"NY\", \"TX\", \"CA\", \"NY\", \"TX\"]\n",
    "}\n",
    "\n",
    "df = pl.DataFrame(data)\n",
    "print(\"Original DataFrame:\")\n",
    "print(df)\n",
    "\n",
    "df_unique = df.unique(subset=['customer_id'])\n",
    "\n",
    "print(\"\\nDataFrame after removing duplicates based on 'customer_id':\")\n",
    "print(df_unique)\n"
   ]
  },
  {
   "cell_type": "markdown",
   "metadata": {},
   "source": [
    "### **7) Data Transformation**"
   ]
  },
  {
   "cell_type": "markdown",
   "metadata": {},
   "source": [
    "#### 7.1 Strings to float"
   ]
  },
  {
   "cell_type": "code",
   "execution_count": 22,
   "metadata": {},
   "outputs": [
    {
     "name": "stdout",
     "output_type": "stream",
     "text": [
      "before casting: shape: (5, 3)\n",
      "┌──────────┬───────┬──────────────────┐\n",
      "│ integers ┆ float ┆ floats_as_string │\n",
      "│ ---      ┆ ---   ┆ ---              │\n",
      "│ i64      ┆ f64   ┆ str              │\n",
      "╞══════════╪═══════╪══════════════════╡\n",
      "│ 1        ┆ 4.0   ┆ 4.0              │\n",
      "│ 2        ┆ 5.03  ┆ 5.0              │\n",
      "│ 3        ┆ 6.0   ┆ 6.0              │\n",
      "│ 4        ┆ 7.0   ┆ 7.0              │\n",
      "│ 5        ┆ 8.0   ┆ 8.0              │\n",
      "└──────────┴───────┴──────────────────┘\n",
      "After Casting: shape: (5, 3)\n",
      "┌──────────┬───────┬──────────────────┐\n",
      "│ integers ┆ float ┆ floats_as_string │\n",
      "│ ---      ┆ ---   ┆ ---              │\n",
      "│ str      ┆ str   ┆ f64              │\n",
      "╞══════════╪═══════╪══════════════════╡\n",
      "│ 1        ┆ 4.0   ┆ 4.0              │\n",
      "│ 2        ┆ 5.03  ┆ 5.0              │\n",
      "│ 3        ┆ 6.0   ┆ 6.0              │\n",
      "│ 4        ┆ 7.0   ┆ 7.0              │\n",
      "│ 5        ┆ 8.0   ┆ 8.0              │\n",
      "└──────────┴───────┴──────────────────┘\n"
     ]
    }
   ],
   "source": [
    "df = pl.DataFrame(\n",
    "    {\n",
    "        \"integers\": [1, 2, 3, 4, 5],\n",
    "        \"float\": [4.0, 5.03, 6.0, 7.0, 8.0],\n",
    "        \"floats_as_string\": [\"4.0\", \"5.0\", \"6.0\", \"7.0\", \"8.0\"],\n",
    "    }\n",
    ")\n",
    "print(\"before casting:\",df)\n",
    "\n",
    "\n",
    "out = df.select(\n",
    "    pl.col(\"integers\").cast(pl.String),\n",
    "    pl.col(\"float\").cast(pl.String),\n",
    "    pl.col(\"floats_as_string\").cast(pl.Float64),\n",
    ")\n",
    "print(\"After Casting:\",out)"
   ]
  },
  {
   "cell_type": "markdown",
   "metadata": {},
   "source": [
    "#### 7.2 Replace data"
   ]
  },
  {
   "cell_type": "code",
   "execution_count": 23,
   "metadata": {},
   "outputs": [
    {
     "name": "stdout",
     "output_type": "stream",
     "text": [
      "shape: (2, 2)\n",
      "┌─────┬────────┐\n",
      "│ id  ┆ text   │\n",
      "│ --- ┆ ---    │\n",
      "│ i64 ┆ str    │\n",
      "╞═════╪════════╡\n",
      "│ 1   ┆ 123ABC │\n",
      "│ 2   ┆ ABC456 │\n",
      "└─────┴────────┘\n"
     ]
    }
   ],
   "source": [
    "df = pl.DataFrame({\"id\": [1, 2], \"text\": [\"123abc\", \"abc456\"]})\n",
    "out = df.with_columns(\n",
    "    pl.col(\"text\").str.replace(r\"abc\", \"ABC\"),\n",
    "\n",
    ")\n",
    "print(out)"
   ]
  },
  {
   "cell_type": "markdown",
   "metadata": {},
   "source": [
    "### **8) Sorting, Grouping and Aggregation**"
   ]
  },
  {
   "cell_type": "markdown",
   "metadata": {},
   "source": [
    "#### 8.1 Sorting"
   ]
  },
  {
   "cell_type": "code",
   "execution_count": 24,
   "metadata": {},
   "outputs": [
    {
     "data": {
      "text/html": [
       "<div><style>\n",
       ".dataframe > thead > tr,\n",
       ".dataframe > tbody > tr {\n",
       "  text-align: right;\n",
       "  white-space: pre-wrap;\n",
       "}\n",
       "</style>\n",
       "<small>shape: (3, 3)</small><table border=\"1\" class=\"dataframe\"><thead><tr><th>a</th><th>b</th><th>c</th></tr><tr><td>i64</td><td>f64</td><td>str</td></tr></thead><tbody><tr><td>null</td><td>4.0</td><td>&quot;b&quot;</td></tr><tr><td>2</td><td>5.0</td><td>&quot;c&quot;</td></tr><tr><td>1</td><td>6.0</td><td>&quot;a&quot;</td></tr></tbody></table></div>"
      ],
      "text/plain": [
       "shape: (3, 3)\n",
       "┌──────┬─────┬─────┐\n",
       "│ a    ┆ b   ┆ c   │\n",
       "│ ---  ┆ --- ┆ --- │\n",
       "│ i64  ┆ f64 ┆ str │\n",
       "╞══════╪═════╪═════╡\n",
       "│ null ┆ 4.0 ┆ b   │\n",
       "│ 2    ┆ 5.0 ┆ c   │\n",
       "│ 1    ┆ 6.0 ┆ a   │\n",
       "└──────┴─────┴─────┘"
      ]
     },
     "execution_count": 24,
     "metadata": {},
     "output_type": "execute_result"
    }
   ],
   "source": [
    "df = pl.DataFrame(\n",
    "    {\n",
    "        \"a\": [1, 2, None],\n",
    "        \"b\": [6.0, 5.0, 4.0],\n",
    "        \"c\": [\"a\", \"c\", \"b\"],\n",
    "    }\n",
    ")\n",
    "df.sort(\"b\")\n",
    "# df.sort(\"b\",descending=True)"
   ]
  },
  {
   "cell_type": "markdown",
   "metadata": {},
   "source": [
    "#### 8.2 Group and Aggregate"
   ]
  },
  {
   "cell_type": "code",
   "execution_count": 25,
   "metadata": {},
   "outputs": [
    {
     "data": {
      "text/html": [
       "<div><style>\n",
       ".dataframe > thead > tr,\n",
       ".dataframe > tbody > tr {\n",
       "  text-align: right;\n",
       "  white-space: pre-wrap;\n",
       "}\n",
       "</style>\n",
       "<small>shape: (3, 2)</small><table border=\"1\" class=\"dataframe\"><thead><tr><th>a</th><th>b</th></tr><tr><td>str</td><td>i64</td></tr></thead><tbody><tr><td>&quot;a&quot;</td><td>2</td></tr><tr><td>&quot;b&quot;</td><td>5</td></tr><tr><td>&quot;c&quot;</td><td>3</td></tr></tbody></table></div>"
      ],
      "text/plain": [
       "shape: (3, 2)\n",
       "┌─────┬─────┐\n",
       "│ a   ┆ b   │\n",
       "│ --- ┆ --- │\n",
       "│ str ┆ i64 │\n",
       "╞═════╪═════╡\n",
       "│ a   ┆ 2   │\n",
       "│ b   ┆ 5   │\n",
       "│ c   ┆ 3   │\n",
       "└─────┴─────┘"
      ]
     },
     "execution_count": 25,
     "metadata": {},
     "output_type": "execute_result"
    }
   ],
   "source": [
    "df = pl.DataFrame(\n",
    "    {\n",
    "        \"a\": [\"a\", \"b\", \"a\", \"b\", \"c\"],\n",
    "        \"b\": [1, 2, 1, 3, 3],\n",
    "        \"c\": [5, 4, 3, 2, 1],\n",
    "    }\n",
    ")\n",
    "df.group_by(\"a\").agg(pl.col(\"b\").sum()) "
   ]
  },
  {
   "cell_type": "markdown",
   "metadata": {},
   "source": [
    "### **9) Merging and Joining**"
   ]
  },
  {
   "cell_type": "markdown",
   "metadata": {},
   "source": [
    "#### 9.1 Merge"
   ]
  },
  {
   "cell_type": "code",
   "execution_count": 26,
   "metadata": {},
   "outputs": [
    {
     "data": {
      "text/html": [
       "<div><style>\n",
       ".dataframe > thead > tr,\n",
       ".dataframe > tbody > tr {\n",
       "  text-align: right;\n",
       "  white-space: pre-wrap;\n",
       "}\n",
       "</style>\n",
       "<small>shape: (3, 2)</small><table border=\"1\" class=\"dataframe\"><thead><tr><th>name</th><th>age</th></tr><tr><td>str</td><td>i64</td></tr></thead><tbody><tr><td>&quot;bob&quot;</td><td>18</td></tr><tr><td>&quot;steve&quot;</td><td>42</td></tr><tr><td>&quot;elise&quot;</td><td>44</td></tr></tbody></table></div>"
      ],
      "text/plain": [
       "shape: (3, 2)\n",
       "┌───────┬─────┐\n",
       "│ name  ┆ age │\n",
       "│ ---   ┆ --- │\n",
       "│ str   ┆ i64 │\n",
       "╞═══════╪═════╡\n",
       "│ bob   ┆ 18  │\n",
       "│ steve ┆ 42  │\n",
       "│ elise ┆ 44  │\n",
       "└───────┴─────┘"
      ]
     },
     "execution_count": 26,
     "metadata": {},
     "output_type": "execute_result"
    }
   ],
   "source": [
    "df0 = pl.DataFrame(\n",
    "    {\"name\": [\"steve\", \"elise\", \"bob\"], \"age\": [42, 44, 18]}\n",
    ").sort(\"age\")\n",
    "df0"
   ]
  },
  {
   "cell_type": "code",
   "execution_count": 27,
   "metadata": {},
   "outputs": [
    {
     "data": {
      "text/html": [
       "<div><style>\n",
       ".dataframe > thead > tr,\n",
       ".dataframe > tbody > tr {\n",
       "  text-align: right;\n",
       "  white-space: pre-wrap;\n",
       "}\n",
       "</style>\n",
       "<small>shape: (4, 2)</small><table border=\"1\" class=\"dataframe\"><thead><tr><th>name</th><th>age</th></tr><tr><td>str</td><td>i64</td></tr></thead><tbody><tr><td>&quot;thomas&quot;</td><td>20</td></tr><tr><td>&quot;anna&quot;</td><td>21</td></tr><tr><td>&quot;megan&quot;</td><td>33</td></tr><tr><td>&quot;steve&quot;</td><td>42</td></tr></tbody></table></div>"
      ],
      "text/plain": [
       "shape: (4, 2)\n",
       "┌────────┬─────┐\n",
       "│ name   ┆ age │\n",
       "│ ---    ┆ --- │\n",
       "│ str    ┆ i64 │\n",
       "╞════════╪═════╡\n",
       "│ thomas ┆ 20  │\n",
       "│ anna   ┆ 21  │\n",
       "│ megan  ┆ 33  │\n",
       "│ steve  ┆ 42  │\n",
       "└────────┴─────┘"
      ]
     },
     "execution_count": 27,
     "metadata": {},
     "output_type": "execute_result"
    }
   ],
   "source": [
    "df1 = pl.DataFrame(\n",
    "    {\"name\": [\"anna\", \"megan\", \"steve\", \"thomas\"], \"age\": [21, 33, 42, 20]}\n",
    ").sort(\"age\")\n",
    "df1"
   ]
  },
  {
   "cell_type": "code",
   "execution_count": 28,
   "metadata": {},
   "outputs": [
    {
     "data": {
      "text/html": [
       "<div><style>\n",
       ".dataframe > thead > tr,\n",
       ".dataframe > tbody > tr {\n",
       "  text-align: right;\n",
       "  white-space: pre-wrap;\n",
       "}\n",
       "</style>\n",
       "<small>shape: (7, 2)</small><table border=\"1\" class=\"dataframe\"><thead><tr><th>name</th><th>age</th></tr><tr><td>str</td><td>i64</td></tr></thead><tbody><tr><td>&quot;bob&quot;</td><td>18</td></tr><tr><td>&quot;thomas&quot;</td><td>20</td></tr><tr><td>&quot;anna&quot;</td><td>21</td></tr><tr><td>&quot;megan&quot;</td><td>33</td></tr><tr><td>&quot;steve&quot;</td><td>42</td></tr><tr><td>&quot;steve&quot;</td><td>42</td></tr><tr><td>&quot;elise&quot;</td><td>44</td></tr></tbody></table></div>"
      ],
      "text/plain": [
       "shape: (7, 2)\n",
       "┌────────┬─────┐\n",
       "│ name   ┆ age │\n",
       "│ ---    ┆ --- │\n",
       "│ str    ┆ i64 │\n",
       "╞════════╪═════╡\n",
       "│ bob    ┆ 18  │\n",
       "│ thomas ┆ 20  │\n",
       "│ anna   ┆ 21  │\n",
       "│ megan  ┆ 33  │\n",
       "│ steve  ┆ 42  │\n",
       "│ steve  ┆ 42  │\n",
       "│ elise  ┆ 44  │\n",
       "└────────┴─────┘"
      ]
     },
     "execution_count": 28,
     "metadata": {},
     "output_type": "execute_result"
    }
   ],
   "source": [
    "df0.merge_sorted(df1, key=\"age\")"
   ]
  },
  {
   "cell_type": "markdown",
   "metadata": {},
   "source": [
    "#### 9.2 Concat-Vertical"
   ]
  },
  {
   "cell_type": "code",
   "execution_count": 29,
   "metadata": {},
   "outputs": [
    {
     "name": "stdout",
     "output_type": "stream",
     "text": [
      "shape: (2, 2)\n",
      "┌─────┬─────┐\n",
      "│ a   ┆ b   │\n",
      "│ --- ┆ --- │\n",
      "│ i64 ┆ i64 │\n",
      "╞═════╪═════╡\n",
      "│ 1   ┆ 3   │\n",
      "│ 2   ┆ 4   │\n",
      "└─────┴─────┘\n"
     ]
    }
   ],
   "source": [
    "df_v1 = pl.DataFrame(\n",
    "    {\n",
    "        \"a\": [1],\n",
    "        \"b\": [3],\n",
    "    }\n",
    ")\n",
    "df_v2 = pl.DataFrame(\n",
    "    {\n",
    "        \"a\": [2],\n",
    "        \"b\": [4],\n",
    "    }\n",
    ")\n",
    "df_vertical_concat = pl.concat(\n",
    "    [\n",
    "        df_v1,\n",
    "        df_v2,\n",
    "    ],\n",
    "    how=\"vertical\",\n",
    ")\n",
    "print(df_vertical_concat)"
   ]
  },
  {
   "cell_type": "markdown",
   "metadata": {},
   "source": [
    "#### 9.3 Concat-Horizontal"
   ]
  },
  {
   "cell_type": "code",
   "execution_count": 30,
   "metadata": {},
   "outputs": [
    {
     "name": "stdout",
     "output_type": "stream",
     "text": [
      "shape: (3, 4)\n",
      "┌──────┬──────┬─────┬─────┐\n",
      "│ l1   ┆ l2   ┆ r1  ┆ r2  │\n",
      "│ ---  ┆ ---  ┆ --- ┆ --- │\n",
      "│ i64  ┆ i64  ┆ i64 ┆ i64 │\n",
      "╞══════╪══════╪═════╪═════╡\n",
      "│ 1    ┆ 3    ┆ 5   ┆ 8   │\n",
      "│ 2    ┆ 4    ┆ 6   ┆ 9   │\n",
      "│ null ┆ null ┆ 7   ┆ 10  │\n",
      "└──────┴──────┴─────┴─────┘\n"
     ]
    }
   ],
   "source": [
    "df_h1 = pl.DataFrame(\n",
    "    {\n",
    "        \"l1\": [1, 2],\n",
    "        \"l2\": [3, 4],\n",
    "    }\n",
    ")\n",
    "df_h2 = pl.DataFrame(\n",
    "    {\n",
    "        \"r1\": [5, 6, 7],\n",
    "        \"r2\": [8, 9, 10],\n",
    "    }\n",
    ")\n",
    "df_horizontal_concat = pl.concat(\n",
    "    [\n",
    "        df_h1,\n",
    "        df_h2,\n",
    "    ],\n",
    "    how=\"horizontal\",\n",
    ")\n",
    "print(df_horizontal_concat)"
   ]
  },
  {
   "cell_type": "markdown",
   "metadata": {},
   "source": [
    "#### 9.4 Inner Join"
   ]
  },
  {
   "attachments": {
    "image.png": {
     "image/png": "[encoded data removed]"
    }
   },
   "cell_type": "markdown",
   "metadata": {},
   "source": [
    "![image.png](attachment:image.png)"
   ]
  },
  {
   "cell_type": "code",
   "execution_count": 31,
   "metadata": {},
   "outputs": [
    {
     "name": "stdout",
     "output_type": "stream",
     "text": [
      "shape: (3, 3)\n",
      "┌──────────┬─────────────┬────────┐\n",
      "│ order_id ┆ customer_id ┆ amount │\n",
      "│ ---      ┆ ---         ┆ ---    │\n",
      "│ str      ┆ i64         ┆ i64    │\n",
      "╞══════════╪═════════════╪════════╡\n",
      "│ a        ┆ 1           ┆ 100    │\n",
      "│ b        ┆ 2           ┆ 200    │\n",
      "│ c        ┆ 2           ┆ 300    │\n",
      "└──────────┴─────────────┴────────┘\n"
     ]
    }
   ],
   "source": [
    "df_orders = pl.DataFrame(\n",
    "    {\n",
    "        \"order_id\": [\"a\", \"b\", \"c\"],\n",
    "        \"customer_id\": [1, 2, 2],\n",
    "        \"amount\": [100, 200, 300],\n",
    "    }\n",
    ")\n",
    "print(df_orders)"
   ]
  },
  {
   "cell_type": "code",
   "execution_count": 32,
   "metadata": {},
   "outputs": [
    {
     "name": "stdout",
     "output_type": "stream",
     "text": [
      "shape: (3, 2)\n",
      "┌─────────────┬─────────┐\n",
      "│ customer_id ┆ name    │\n",
      "│ ---         ┆ ---     │\n",
      "│ i64         ┆ str     │\n",
      "╞═════════════╪═════════╡\n",
      "│ 1           ┆ Alice   │\n",
      "│ 2           ┆ Bob     │\n",
      "│ 3           ┆ Charlie │\n",
      "└─────────────┴─────────┘\n"
     ]
    }
   ],
   "source": [
    "df_customers = pl.DataFrame(\n",
    "    {\n",
    "        \"customer_id\": [1, 2, 3],\n",
    "        \"name\": [\"Alice\", \"Bob\", \"Charlie\"],\n",
    "    }\n",
    ")\n",
    "print(df_customers)"
   ]
  },
  {
   "cell_type": "code",
   "execution_count": 34,
   "metadata": {},
   "outputs": [
    {
     "name": "stdout",
     "output_type": "stream",
     "text": [
      "shape: (3, 4)\n",
      "┌─────────────┬───────┬──────────┬────────┐\n",
      "│ customer_id ┆ name  ┆ order_id ┆ amount │\n",
      "│ ---         ┆ ---   ┆ ---      ┆ ---    │\n",
      "│ i64         ┆ str   ┆ str      ┆ i64    │\n",
      "╞═════════════╪═══════╪══════════╪════════╡\n",
      "│ 1           ┆ Alice ┆ a        ┆ 100    │\n",
      "│ 2           ┆ Bob   ┆ b        ┆ 200    │\n",
      "│ 2           ┆ Bob   ┆ c        ┆ 300    │\n",
      "└─────────────┴───────┴──────────┴────────┘\n"
     ]
    }
   ],
   "source": [
    "df_inner_customer_join = df_customers.join(df_orders, on=\"customer_id\", \n",
    "                                           how=\"inner\")\n",
    "print(df_inner_customer_join)"
   ]
  },
  {
   "cell_type": "markdown",
   "metadata": {},
   "source": [
    "#### 9.5 left Join"
   ]
  },
  {
   "attachments": {
    "image.png": {
     "image/png": "[encoded data removed]"
    }
   },
   "cell_type": "markdown",
   "metadata": {},
   "source": [
    "![image.png](attachment:image.png)"
   ]
  },
  {
   "cell_type": "code",
   "execution_count": 36,
   "metadata": {},
   "outputs": [
    {
     "name": "stdout",
     "output_type": "stream",
     "text": [
      "shape: (3, 3)\n",
      "┌──────────┬─────────────┬────────┐\n",
      "│ order_id ┆ customer_id ┆ amount │\n",
      "│ ---      ┆ ---         ┆ ---    │\n",
      "│ str      ┆ i64         ┆ i64    │\n",
      "╞══════════╪═════════════╪════════╡\n",
      "│ a        ┆ 1           ┆ 100    │\n",
      "│ b        ┆ 2           ┆ 200    │\n",
      "│ c        ┆ 2           ┆ 300    │\n",
      "└──────────┴─────────────┴────────┘\n",
      "shape: (3, 2)\n",
      "┌─────────────┬─────────┐\n",
      "│ customer_id ┆ name    │\n",
      "│ ---         ┆ ---     │\n",
      "│ i64         ┆ str     │\n",
      "╞═════════════╪═════════╡\n",
      "│ 1           ┆ Alice   │\n",
      "│ 2           ┆ Bob     │\n",
      "│ 3           ┆ Charlie │\n",
      "└─────────────┴─────────┘\n",
      "shape: (4, 4)\n",
      "┌─────────────┬─────────┬──────────┬────────┐\n",
      "│ customer_id ┆ name    ┆ order_id ┆ amount │\n",
      "│ ---         ┆ ---     ┆ ---      ┆ ---    │\n",
      "│ i64         ┆ str     ┆ str      ┆ i64    │\n",
      "╞═════════════╪═════════╪══════════╪════════╡\n",
      "│ 1           ┆ Alice   ┆ a        ┆ 100    │\n",
      "│ 2           ┆ Bob     ┆ b        ┆ 200    │\n",
      "│ 2           ┆ Bob     ┆ c        ┆ 300    │\n",
      "│ 3           ┆ Charlie ┆ null     ┆ null   │\n",
      "└─────────────┴─────────┴──────────┴────────┘\n"
     ]
    }
   ],
   "source": [
    "df_orders = pl.DataFrame(\n",
    "    {\n",
    "        \"order_id\": [\"a\", \"b\", \"c\"],\n",
    "        \"customer_id\": [1, 2, 2],\n",
    "        \"amount\": [100, 200, 300],\n",
    "    }\n",
    ")\n",
    "print(df_orders)\n",
    "\n",
    "\n",
    "df_customers = pl.DataFrame(\n",
    "    {\n",
    "        \"customer_id\": [1, 2, 3],\n",
    "        \"name\": [\"Alice\", \"Bob\", \"Charlie\"],\n",
    "    }\n",
    ")\n",
    "print(df_customers)\n",
    "\n",
    "df_left_join = df_customers.join(df_orders, on=\"customer_id\", how=\"left\")\n",
    "print(df_left_join)"
   ]
  },
  {
   "cell_type": "markdown",
   "metadata": {},
   "source": [
    "#### 9.6 Right Join"
   ]
  },
  {
   "attachments": {
    "image.png": {
     "image/png": "[encoded data removed]"
    }
   },
   "cell_type": "markdown",
   "metadata": {},
   "source": [
    "![image.png](attachment:image.png)"
   ]
  },
  {
   "cell_type": "code",
   "execution_count": 37,
   "metadata": {},
   "outputs": [
    {
     "name": "stdout",
     "output_type": "stream",
     "text": [
      "shape: (4, 4)\n",
      "┌──────────┬────────┬─────────────┬─────────┐\n",
      "│ order_id ┆ amount ┆ customer_id ┆ name    │\n",
      "│ ---      ┆ ---    ┆ ---         ┆ ---     │\n",
      "│ str      ┆ i64    ┆ i64         ┆ str     │\n",
      "╞══════════╪════════╪═════════════╪═════════╡\n",
      "│ a        ┆ 100    ┆ 1           ┆ Alice   │\n",
      "│ b        ┆ 200    ┆ 2           ┆ Bob     │\n",
      "│ c        ┆ 300    ┆ 2           ┆ Bob     │\n",
      "│ null     ┆ null   ┆ 3           ┆ Charlie │\n",
      "└──────────┴────────┴─────────────┴─────────┘\n"
     ]
    }
   ],
   "source": [
    "df_right_join = df_orders.join(df_customers, on=\"customer_id\", how=\"right\")\n",
    "print(df_right_join)"
   ]
  },
  {
   "cell_type": "markdown",
   "metadata": {},
   "source": [
    "#### 9.7 Full Outer Join"
   ]
  },
  {
   "attachments": {
    "image.png": {
     "image/png": "[encoded data removed]"
    }
   },
   "cell_type": "markdown",
   "metadata": {},
   "source": [
    "![image.png](attachment:image.png)"
   ]
  },
  {
   "cell_type": "code",
   "execution_count": 38,
   "metadata": {},
   "outputs": [
    {
     "name": "stdout",
     "output_type": "stream",
     "text": [
      "shape: (4, 5)\n",
      "┌─────────────┬─────────┬──────────┬───────────────────┬────────┐\n",
      "│ customer_id ┆ name    ┆ order_id ┆ customer_id_right ┆ amount │\n",
      "│ ---         ┆ ---     ┆ ---      ┆ ---               ┆ ---    │\n",
      "│ i64         ┆ str     ┆ str      ┆ i64               ┆ i64    │\n",
      "╞═════════════╪═════════╪══════════╪═══════════════════╪════════╡\n",
      "│ 1           ┆ Alice   ┆ a        ┆ 1                 ┆ 100    │\n",
      "│ 2           ┆ Bob     ┆ b        ┆ 2                 ┆ 200    │\n",
      "│ 2           ┆ Bob     ┆ c        ┆ 2                 ┆ 300    │\n",
      "│ 3           ┆ Charlie ┆ null     ┆ null              ┆ null   │\n",
      "└─────────────┴─────────┴──────────┴───────────────────┴────────┘\n"
     ]
    }
   ],
   "source": [
    "df_outer_join = df_customers.join(df_orders, on=\"customer_id\", how=\"full\")\n",
    "print(df_outer_join)"
   ]
  },
  {
   "cell_type": "markdown",
   "metadata": {},
   "source": [
    "#### 9.8 Cross Join"
   ]
  },
  {
   "cell_type": "markdown",
   "metadata": {},
   "source": []
  }
 ],
 "metadata": {
  "kernelspec": {
   "display_name": "youtube",
   "language": "python",
   "name": "python3"
  },
  "language_info": {
   "codemirror_mode": {
    "name": "ipython",
    "version": 3
   },
   "file_extension": ".py",
   "mimetype": "text/x-python",
   "name": "python",
   "nbconvert_exporter": "python",
   "pygments_lexer": "ipython3",
   "version": "3.10.14"
  }
 },
 "nbformat": 4,
 "nbformat_minor": 2
}
